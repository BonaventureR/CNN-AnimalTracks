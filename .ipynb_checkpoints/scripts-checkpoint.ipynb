{
 "cells": [
  {
   "cell_type": "code",
   "execution_count": null,
   "metadata": {},
   "outputs": [],
   "source": [
    "from bs4 import BeautifulSoup\n",
    "import requests\n",
    "import re\n",
    "import urllib.request\n",
    "from PIL import Image\n",
    "from io import BytesIO\n",
    "import os\n",
    "from collections import defaultdict"
   ]
  },
  {
   "cell_type": "code",
   "execution_count": null,
   "metadata": {
    "scrolled": false
   },
   "outputs": [],
   "source": [
    "url = 'http://www.naturetracking.com/mammal-tracks/#/'\n",
    "result = requests.get(url)"
   ]
  },
  {
   "cell_type": "code",
   "execution_count": null,
   "metadata": {},
   "outputs": [],
   "source": [
    "soup = BeautifulSoup(result.text)"
   ]
  },
  {
   "cell_type": "code",
   "execution_count": null,
   "metadata": {
    "scrolled": true
   },
   "outputs": [],
   "source": [
    "path = os.getcwd() + '/images/'\n",
    "chmod = 0o777\n",
    "max_size = (636,636)\n",
    "lowest = float('inf')\n",
    "animals = defaultdict(int)\n",
    "\n",
    "for link in soup.find_all('li'):\n",
    "    for img in link.find_all('a'):\n",
    "        \n",
    "        title = img.get('title')\n",
    "        img_link = img.get('href')\n",
    "        \n",
    "        tracks_match = None\n",
    "        if title and len(title) < 70:\n",
    "            tracks_match = re.search(\"tracks | Tracks\", title)\n",
    "            \n",
    "        if tracks_match:                \n",
    "            animal = str(title[:tracks_match.span()[0]])\n",
    "            try:\n",
    "                # get image and resize\n",
    "                response = requests.get(img_link)\n",
    "                img = Image.open(BytesIO(response.content))\n",
    "                img.thumbnail(max_size)\n",
    "                \n",
    "                # dictory of animal\n",
    "                directory = animal\n",
    "                \n",
    "                check_path = os.path.join(path, directory)\n",
    "                print(check_path)\n",
    "                if os.path.isdir(check_path):\n",
    "                    print('true')\n",
    "                    check_path = os.path.join(check_path, str(animals[animal]))\n",
    "                    print('changed', check_path)\n",
    "                    img.save(check_path + '.thumbnail', \"JPEG\")\n",
    "                else:\n",
    "                    print('false')\n",
    "                    os.mkdir(check_path, chmod)\n",
    "                    check_path = os.path.join(check_path, str(animals[animal]))\n",
    "                    img.save(check_path + '.thumbnail', \"JPEG\")\n",
    "                \n",
    "                animals[animal]+=1\n",
    "            except:\n",
    "                print(\"can not open this image\")\n"
   ]
  },
  {
   "cell_type": "code",
   "execution_count": null,
   "metadata": {},
   "outputs": [],
   "source": [
    "print(len(animals))\n",
    "print(animals)\n",
    "print(lowest)"
   ]
  }
 ],
 "metadata": {
  "kernelspec": {
   "display_name": "Python 3",
   "language": "python",
   "name": "python3"
  },
  "language_info": {
   "codemirror_mode": {
    "name": "ipython",
    "version": 3
   },
   "file_extension": ".py",
   "mimetype": "text/x-python",
   "name": "python",
   "nbconvert_exporter": "python",
   "pygments_lexer": "ipython3",
   "version": "3.8.2"
  }
 },
 "nbformat": 4,
 "nbformat_minor": 2
}

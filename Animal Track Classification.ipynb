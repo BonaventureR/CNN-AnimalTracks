{
 "cells": [
  {
   "cell_type": "markdown",
   "metadata": {},
   "source": [
    "# Animal Track Classification With CNN\n",
    "### ITCS 4156, Spring 2020\n",
    "#### Sara Ashcraft, James Black, Debabrata Das, Bonaventure Raj"
   ]
  },
  {
   "cell_type": "markdown",
   "metadata": {},
   "source": [
    "### Objective\n",
    "We will train a CNN to classify animal tracks based on the taxonomic rank of order. If successful, our results would be useful for wildlife conservation. We will be referencing work done by individuals from the Dogs vs. Cats Kaggle challenge linked below:\n",
    "\n",
    "https://www.kaggle.com/c/dogs-vs-cats\n",
    "\n",
    "This will allow us to jumpstart our project by building off of others' work on a similar problem. Let's start by preparing our data."
   ]
  },
  {
   "cell_type": "code",
   "execution_count": 12,
   "metadata": {},
   "outputs": [
    {
     "data": {
      "text/html": [
       "<div>\n",
       "<style scoped>\n",
       "    .dataframe tbody tr th:only-of-type {\n",
       "        vertical-align: middle;\n",
       "    }\n",
       "\n",
       "    .dataframe tbody tr th {\n",
       "        vertical-align: top;\n",
       "    }\n",
       "\n",
       "    .dataframe thead th {\n",
       "        text-align: right;\n",
       "    }\n",
       "</style>\n",
       "<table border=\"1\" class=\"dataframe\">\n",
       "  <thead>\n",
       "    <tr style=\"text-align: right;\">\n",
       "      <th></th>\n",
       "      <th>image</th>\n",
       "      <th>order</th>\n",
       "    </tr>\n",
       "  </thead>\n",
       "  <tbody>\n",
       "    <tr>\n",
       "      <td>0</td>\n",
       "      <td>0.thumbnail</td>\n",
       "      <td>Artiodactyla</td>\n",
       "    </tr>\n",
       "    <tr>\n",
       "      <td>1</td>\n",
       "      <td>1.thumbnail</td>\n",
       "      <td>Artiodactyla</td>\n",
       "    </tr>\n",
       "    <tr>\n",
       "      <td>2</td>\n",
       "      <td>2.thumbnail</td>\n",
       "      <td>Artiodactyla</td>\n",
       "    </tr>\n",
       "    <tr>\n",
       "      <td>3</td>\n",
       "      <td>3.thumbnail</td>\n",
       "      <td>Artiodactyla</td>\n",
       "    </tr>\n",
       "    <tr>\n",
       "      <td>4</td>\n",
       "      <td>4.thumbnail</td>\n",
       "      <td>Artiodactyla</td>\n",
       "    </tr>\n",
       "    <tr>\n",
       "      <td>...</td>\n",
       "      <td>...</td>\n",
       "      <td>...</td>\n",
       "    </tr>\n",
       "    <tr>\n",
       "      <td>636</td>\n",
       "      <td>2.thumbnail</td>\n",
       "      <td>Rodentia</td>\n",
       "    </tr>\n",
       "    <tr>\n",
       "      <td>637</td>\n",
       "      <td>3.thumbnail</td>\n",
       "      <td>Rodentia</td>\n",
       "    </tr>\n",
       "    <tr>\n",
       "      <td>638</td>\n",
       "      <td>4.thumbnail</td>\n",
       "      <td>Rodentia</td>\n",
       "    </tr>\n",
       "    <tr>\n",
       "      <td>639</td>\n",
       "      <td>5.thumbnail</td>\n",
       "      <td>Rodentia</td>\n",
       "    </tr>\n",
       "    <tr>\n",
       "      <td>640</td>\n",
       "      <td>6.thumbnail</td>\n",
       "      <td>Rodentia</td>\n",
       "    </tr>\n",
       "  </tbody>\n",
       "</table>\n",
       "<p>641 rows × 2 columns</p>\n",
       "</div>"
      ],
      "text/plain": [
       "           image         order\n",
       "0    0.thumbnail  Artiodactyla\n",
       "1    1.thumbnail  Artiodactyla\n",
       "2    2.thumbnail  Artiodactyla\n",
       "3    3.thumbnail  Artiodactyla\n",
       "4    4.thumbnail  Artiodactyla\n",
       "..           ...           ...\n",
       "636  2.thumbnail      Rodentia\n",
       "637  3.thumbnail      Rodentia\n",
       "638  4.thumbnail      Rodentia\n",
       "639  5.thumbnail      Rodentia\n",
       "640  6.thumbnail      Rodentia\n",
       "\n",
       "[641 rows x 2 columns]"
      ]
     },
     "execution_count": 12,
     "metadata": {},
     "output_type": "execute_result"
    }
   ],
   "source": [
    "import numpy as np\n",
    "import pandas as pd\n",
    "from copy import deepcopy as copy\n",
    "import tensorflow as tf\n",
    "from tensorflow import keras\n",
    "import os\n",
    "\n",
    "# Load data\n",
    "path = os.listdir(\"./images\")\n",
    "labels = []\n",
    "images = []\n",
    "\n",
    "for folder in path:\n",
    "    order_path = os.listdir(\"./images/\" + folder)\n",
    "    for subfolder in order_path:\n",
    "        image_path = os.listdir(\"./images/\" + folder + \"/\" + subfolder)\n",
    "        for image in image_path:\n",
    "            labels.append(folder)\n",
    "            images.append(image)\n",
    "            \n",
    "df = pd.DataFrame({'image':images, 'order':labels})\n",
    "df\n",
    "\n",
    "# Preprocess\n",
    "\n",
    "# Visualize"
   ]
  },
  {
   "cell_type": "markdown",
   "metadata": {},
   "source": [
    "### References\n",
    "https://www.kaggle.com/uysimty/keras-cnn-dog-or-cat-classification"
   ]
  }
 ],
 "metadata": {
  "kernelspec": {
   "display_name": "Python 3",
   "language": "python",
   "name": "python3"
  },
  "language_info": {
   "codemirror_mode": {
    "name": "ipython",
    "version": 3
   },
   "file_extension": ".py",
   "mimetype": "text/x-python",
   "name": "python",
   "nbconvert_exporter": "python",
   "pygments_lexer": "ipython3",
   "version": "3.7.4"
  }
 },
 "nbformat": 4,
 "nbformat_minor": 2
}
